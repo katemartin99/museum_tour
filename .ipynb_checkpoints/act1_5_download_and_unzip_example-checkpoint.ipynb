{
 "cells": [
  {
   "cell_type": "code",
   "execution_count": 2,
   "id": "55c271c1-01dd-41ee-bf41-6fc455ffc470",
   "metadata": {},
   "outputs": [],
   "source": [
    "import polars as pl\n",
    "import requests\n",
    "from zipfile import ZipFile\n",
    "from glob import glob"
   ]
  },
  {
   "cell_type": "code",
   "execution_count": 3,
   "id": "ae1b2ce3-6412-4a41-80fc-d1d3e1760738",
   "metadata": {},
   "outputs": [
    {
     "name": "stdout",
     "output_type": "stream",
     "text": [
      "Collecting wget\n",
      "  Downloading wget-3.2.zip (10 kB)\n",
      "  Installing build dependencies ... \u001b[?25ldone\n",
      "\u001b[?25h  Getting requirements to build wheel ... \u001b[?25ldone\n",
      "\u001b[?25h  Preparing metadata (pyproject.toml) ... \u001b[?25ldone\n",
      "\u001b[?25hBuilding wheels for collected packages: wget\n",
      "  Building wheel for wget (pyproject.toml) ... \u001b[?25ldone\n",
      "\u001b[?25h  Created wheel for wget: filename=wget-3.2-py3-none-any.whl size=9685 sha256=50904c15ec974e9fcbeca975aa68538d874214c327c83e095c94d17a60a66bd1\n",
      "  Stored in directory: /Users/tp5521zg/Library/Caches/pip/wheels/8a/b8/04/0c88fb22489b0c049bee4e977c5689c7fe597d6c4b0e7d0b6a\n",
      "Successfully built wget\n",
      "Installing collected packages: wget\n",
      "Successfully installed wget-3.2\n",
      "Note: you may need to restart the kernel to use updated packages.\n"
     ]
    }
   ],
   "source": [
    "%pip install wget"
   ]
  },
  {
   "cell_type": "code",
   "execution_count": 5,
   "id": "fa98555b-a2ed-4661-b464-ffb168137e57",
   "metadata": {},
   "outputs": [],
   "source": [
    "import wget"
   ]
  },
  {
   "cell_type": "markdown",
   "id": "8f031548-08e9-4f1c-b2c3-74e106bc6237",
   "metadata": {},
   "source": [
    "# How to download and unzip a CSV file\n",
    "\n",
    "1. Get and save the URL,\n",
    "2. Use `requests.get` to get the content,\n",
    "3. Open the content inside of `with` and the `ZipFile` content, and\n",
    "4. Use the `extract` method to unzip the content."
   ]
  },
  {
   "cell_type": "markdown",
   "id": "a7225299-bd44-4f1a-9fb4-f67d91225842",
   "metadata": {},
   "source": [
    "## Example - A smaller City Bile file using `wget`"
   ]
  },
  {
   "cell_type": "code",
   "execution_count": 6,
   "id": "72824a2a-c95b-4d7a-9aec-5ba44a8e9a54",
   "metadata": {},
   "outputs": [
    {
     "data": {
      "text/plain": [
       "[]"
      ]
     },
     "execution_count": 6,
     "metadata": {},
     "output_type": "execute_result"
    }
   ],
   "source": [
    "glob('data/*')"
   ]
  },
  {
   "cell_type": "markdown",
   "id": "63d89252-116a-4381-80bf-b9efb85f15b4",
   "metadata": {},
   "source": [
    "#### Step 1 - Download the file."
   ]
  },
  {
   "cell_type": "code",
   "execution_count": 13,
   "id": "fb28d142-851d-4930-b29e-e5dc9ca97e6b",
   "metadata": {},
   "outputs": [
    {
     "ename": "ValueError",
     "evalue": "not enough values to unpack (expected 2, got 1)",
     "output_type": "error",
     "traceback": [
      "\u001b[31m---------------------------------------------------------------------------\u001b[39m",
      "\u001b[31mValueError\u001b[39m                                Traceback (most recent call last)",
      "\u001b[36mCell\u001b[39m\u001b[36m \u001b[39m\u001b[32mIn[13]\u001b[39m\u001b[32m, line 4\u001b[39m\n\u001b[32m      1\u001b[39m url = \u001b[33m\"\u001b[39m\u001b[33mhttps://s3.amazonaws.com/tripdata/JC-202507-citibike-tripdata.csv.zip\u001b[39m\u001b[33m\"\u001b[39m\n\u001b[32m      3\u001b[39m (zip_path :=\n\u001b[32m----> \u001b[39m\u001b[32m4\u001b[39m  \u001b[43mwget\u001b[49m\u001b[43m.\u001b[49m\u001b[43mdownload\u001b[49m\u001b[43m(\u001b[49m\u001b[43murl\u001b[49m\u001b[43m,\u001b[49m\u001b[43m \u001b[49m\u001b[43mout\u001b[49m\u001b[43m=\u001b[49m\u001b[33;43m'\u001b[39;49m\u001b[33;43mdata\u001b[39;49m\u001b[33;43m'\u001b[39;49m\u001b[43m)\u001b[49m\n\u001b[32m      5\u001b[39m )\n",
      "\u001b[36mFile \u001b[39m\u001b[32m/opt/anaconda3/envs/polars/lib/python3.13/site-packages/wget.py:533\u001b[39m, in \u001b[36mdownload\u001b[39m\u001b[34m(url, out, bar)\u001b[39m\n\u001b[32m    531\u001b[39m \u001b[38;5;66;03m# add numeric ' (x)' suffix if filename already exists\u001b[39;00m\n\u001b[32m    532\u001b[39m \u001b[38;5;28;01mif\u001b[39;00m os.path.exists(filename):\n\u001b[32m--> \u001b[39m\u001b[32m533\u001b[39m     filename = \u001b[43mfilename_fix_existing\u001b[49m\u001b[43m(\u001b[49m\u001b[43mfilename\u001b[49m\u001b[43m)\u001b[49m\n\u001b[32m    534\u001b[39m shutil.move(tmpfile, filename)\n\u001b[32m    536\u001b[39m \u001b[38;5;66;03m#print headers\u001b[39;00m\n",
      "\u001b[36mFile \u001b[39m\u001b[32m/opt/anaconda3/envs/polars/lib/python3.13/site-packages/wget.py:269\u001b[39m, in \u001b[36mfilename_fix_existing\u001b[39m\u001b[34m(filename)\u001b[39m\n\u001b[32m    265\u001b[39m \u001b[38;5;250m\u001b[39m\u001b[33;03m\"\"\"Expands name portion of filename with numeric ' (x)' suffix to\u001b[39;00m\n\u001b[32m    266\u001b[39m \u001b[33;03mreturn filename that doesn't exist already.\u001b[39;00m\n\u001b[32m    267\u001b[39m \u001b[33;03m\"\"\"\u001b[39;00m\n\u001b[32m    268\u001b[39m dirname = \u001b[33mu\u001b[39m\u001b[33m'\u001b[39m\u001b[33m.\u001b[39m\u001b[33m'\u001b[39m\n\u001b[32m--> \u001b[39m\u001b[32m269\u001b[39m name, ext = filename.rsplit(\u001b[33m'\u001b[39m\u001b[33m.\u001b[39m\u001b[33m'\u001b[39m, \u001b[32m1\u001b[39m)\n\u001b[32m    270\u001b[39m names = [x \u001b[38;5;28;01mfor\u001b[39;00m x \u001b[38;5;129;01min\u001b[39;00m os.listdir(dirname) \u001b[38;5;28;01mif\u001b[39;00m x.startswith(name)]\n\u001b[32m    271\u001b[39m names = [x.rsplit(\u001b[33m'\u001b[39m\u001b[33m.\u001b[39m\u001b[33m'\u001b[39m, \u001b[32m1\u001b[39m)[\u001b[32m0\u001b[39m] \u001b[38;5;28;01mfor\u001b[39;00m x \u001b[38;5;129;01min\u001b[39;00m names]\n",
      "\u001b[31mValueError\u001b[39m: not enough values to unpack (expected 2, got 1)"
     ]
    }
   ],
   "source": [
    "url = \"https://s3.amazonaws.com/tripdata/JC-202507-citibike-tripdata.csv.zip\"\n",
    "\n",
    "(zip_path :=\n",
    " wget.download(url, out='data')\n",
    ")"
   ]
  },
  {
   "cell_type": "markdown",
   "id": "b382ffcd-fdf8-4375-beb4-4813f3520578",
   "metadata": {},
   "source": [
    "#### Step 2 - Unzip"
   ]
  },
  {
   "cell_type": "code",
   "execution_count": null,
   "id": "98332da9-fdbc-4b73-ad73-5642f9d45add",
   "metadata": {},
   "outputs": [],
   "source": [
    "with ZipFile(zip_path, 'r') as z:\n",
    "    z.extractall(\"./data\")"
   ]
  },
  {
   "cell_type": "code",
   "execution_count": 11,
   "id": "b08b4a98-f04e-4f63-9b3c-92f58fc08eb8",
   "metadata": {},
   "outputs": [
    {
     "data": {
      "text/plain": [
       "[]"
      ]
     },
     "execution_count": 11,
     "metadata": {},
     "output_type": "execute_result"
    }
   ],
   "source": [
    "glob('data/*')"
   ]
  },
  {
   "cell_type": "code",
   "execution_count": null,
   "id": "467d3cd8-de51-477f-b664-aebe54e07a4d",
   "metadata": {},
   "outputs": [],
   "source": []
  }
 ],
 "metadata": {
  "kernelspec": {
   "display_name": "Python 3 (ipykernel)",
   "language": "python",
   "name": "python3"
  },
  "language_info": {
   "codemirror_mode": {
    "name": "ipython",
    "version": 3
   },
   "file_extension": ".py",
   "mimetype": "text/x-python",
   "name": "python",
   "nbconvert_exporter": "python",
   "pygments_lexer": "ipython3",
   "version": "3.13.5"
  }
 },
 "nbformat": 4,
 "nbformat_minor": 5
}
